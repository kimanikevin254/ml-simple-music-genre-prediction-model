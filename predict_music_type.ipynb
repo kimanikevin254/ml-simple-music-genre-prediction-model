{
 "cells": [
  {
   "cell_type": "code",
   "execution_count": 52,
   "id": "77d1d2a1",
   "metadata": {},
   "outputs": [
    {
     "data": {
      "text/plain": [
       "array(['HipHop', 'Dance'], dtype=object)"
      ]
     },
     "execution_count": 52,
     "metadata": {},
     "output_type": "execute_result"
    }
   ],
   "source": [
    "import pandas as pd\n",
    "from sklearn.tree import DecisionTreeClassifier\n",
    "\n",
    "# Read data from csv file\n",
    "music_data = pd.read_csv('music.csv')\n",
    "\n",
    "# Split the data\n",
    "\n",
    "# Input data\n",
    "X = music_data.drop(columns=['genre']) \n",
    "\n",
    "# Output data\n",
    "y = music_data['genre']\n",
    "\n",
    "# Train the model and make prediction\n",
    "model = DecisionTreeClassifier()\n",
    "model.fit(X, y)\n",
    "prediction = model.predict([ [21,1], [22,0] ])\n",
    "prediction"
   ]
  },
  {
   "cell_type": "code",
   "execution_count": 51,
   "id": "c4ff4166",
   "metadata": {},
   "outputs": [
    {
     "data": {
      "text/plain": [
       "0.75"
      ]
     },
     "execution_count": 51,
     "metadata": {},
     "output_type": "execute_result"
    }
   ],
   "source": [
    "from sklearn.model_selection import train_test_split\n",
    "from sklearn.metrics import accuracy_score\n",
    "\n",
    "# Split the data into training and testing data\n",
    "X_train, X_test, y_train, y_test = train_test_split(X, y, test_size=0.2)\n",
    "model.fit(X_train, y_train)\n",
    "predictions = model.predict(X_test)\n",
    "\n",
    "# Calculate the accuracy of the algorithm\n",
    "score = accuracy_score(y_test, predictions)\n",
    "score"
   ]
  },
  {
   "cell_type": "code",
   "execution_count": null,
   "id": "4ba0b986",
   "metadata": {},
   "outputs": [],
   "source": [
    "# Persisting the model\n",
    "# from sklearn.externals import joblib\n",
    "\n",
    "# To save the trained model\n",
    "# model = joblib.dump(model, 'music-recommender.joblib')\n",
    "\n",
    "# To load a trained model\n",
    "# joblib.load('music-recommender.joblib')"
   ]
  }
 ],
 "metadata": {
  "kernelspec": {
   "display_name": "Python 3 (ipykernel)",
   "language": "python",
   "name": "python3"
  },
  "language_info": {
   "codemirror_mode": {
    "name": "ipython",
    "version": 3
   },
   "file_extension": ".py",
   "mimetype": "text/x-python",
   "name": "python",
   "nbconvert_exporter": "python",
   "pygments_lexer": "ipython3",
   "version": "3.9.7"
  }
 },
 "nbformat": 4,
 "nbformat_minor": 5
}
